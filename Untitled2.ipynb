{
 "cells": [
  {
   "cell_type": "code",
   "execution_count": 13,
   "id": "401bfb05",
   "metadata": {},
   "outputs": [
    {
     "name": "stdout",
     "output_type": "stream",
     "text": [
      "Hello World!   Python Programming\n"
     ]
    }
   ],
   "source": [
    "var1 = 'Hello World!'\n",
    "var2 = \"Python Programming\"\n",
    "print(var1,\" \",var2)"
   ]
  },
  {
   "cell_type": "code",
   "execution_count": 30,
   "id": "6e83e05c",
   "metadata": {},
   "outputs": [
    {
     "name": "stdout",
     "output_type": "stream",
     "text": [
      "H\n",
      " Pro\n"
     ]
    }
   ],
   "source": [
    "var1 = 'Hello World!'\n",
    "var2 = \"Python Programming\"\n",
    "\n",
    "print (var1[0])\n",
    "\n",
    "print (var2[6:10])"
   ]
  },
  {
   "cell_type": "code",
   "execution_count": 21,
   "id": "4f753cdc",
   "metadata": {},
   "outputs": [
    {
     "name": "stdout",
     "output_type": "stream",
     "text": [
      "Updated String :-  Hello Prajwal\n"
     ]
    }
   ],
   "source": [
    "var1 = 'Hello World!'\n",
    "print (\"Updated String :- \", var1[0:6] + 'Prajwal')\n"
   ]
  },
  {
   "cell_type": "code",
   "execution_count": 32,
   "id": "0062143d",
   "metadata": {},
   "outputs": [
    {
     "name": "stdout",
     "output_type": "stream",
     "text": [
      "Please Enter Your Own String : hi good morning mam\n",
      "The Final String : Str2  =  hi good morning mam\n",
      "The Final String : Str3  = =  hi good morning mam\n",
      "The Final String : Str4  = =   goo\n"
     ]
    }
   ],
   "source": [
    "str1 = input(\"Please Enter Your Own String : \")\n",
    "\n",
    "str2 = str1\n",
    "str3 = str1[:]\n",
    "str4 = str1[2:6]\n",
    "\n",
    "print(\"The Final String : Str2  = \", str2)\n",
    "print(\"The Final String : Str3  = = \", str3)\n",
    "print(\"The Final String : Str4  = = \", str4)"
   ]
  },
  {
   "cell_type": "code",
   "execution_count": 33,
   "id": "098872a4",
   "metadata": {},
   "outputs": [
    {
     "name": "stdout",
     "output_type": "stream",
     "text": [
      "str.capitalize() :  This is string example....wow!!!\n"
     ]
    }
   ],
   "source": [
    "#Python String capitalize() method returns a copy of the string with only its first character capitalized.\n",
    "str = \"this is string example....wow!!!\";\n",
    "print (\"str.capitalize() : \", str.capitalize())"
   ]
  },
  {
   "cell_type": "code",
   "execution_count": 34,
   "id": "3c813632",
   "metadata": {},
   "outputs": [
    {
     "name": "stdout",
     "output_type": "stream",
     "text": [
      "str.center(40, 'a') :  ****this is string example....wow!!!****\n"
     ]
    }
   ],
   "source": [
    "#center() returns centered in a string of length width. Padding is done using the specified fillchar. Default filler is a space.\n",
    "\n",
    "\n",
    "str = \"this is string example....wow!!!\"\n",
    "print (\"str.center(40, 'a') : \", str.center(40, '*'))"
   ]
  },
  {
   "cell_type": "code",
   "execution_count": 35,
   "id": "2847fe7e",
   "metadata": {},
   "outputs": [
    {
     "name": "stdout",
     "output_type": "stream",
     "text": [
      "str.count(sub, 4, 40) :  2\n",
      "str.count(sub) :  1\n"
     ]
    }
   ],
   "source": [
    "#count() returns the number of occurrences of substring sub in the range [start, end]. \n",
    "\n",
    "#str.count(sub, start= 0,end=len(string))\n",
    "\n",
    "str = \"this is string example....wow!!!\";\n",
    "\n",
    "sub = \"i\";\n",
    "print (\"str.count(sub, 4, 40) : \", str.count(sub, 4, 40))\n",
    "sub = \"wow\";\n",
    "print (\"str.count(sub) : \", str.count(sub))"
   ]
  },
  {
   "cell_type": "code",
   "execution_count": 36,
   "id": "b800ecc0",
   "metadata": {},
   "outputs": [
    {
     "name": "stdout",
     "output_type": "stream",
     "text": [
      "2\n",
      "-1\n",
      "-1\n"
     ]
    }
   ],
   "source": [
    "#find() determines if string str occurs in string, or in a substring of string if starting index beg and ending index end are given.\n",
    "\n",
    "#str.find(str, beg=0, end=len(string))\n",
    "\n",
    "str1 = \"this is string example....wow!!!\";\n",
    "str2 = \"is\";\n",
    "\n",
    "print (str1.find(str2))\n",
    "print (str1.find(str2, 10))\n",
    "print (str1.find(str2, 40))\n"
   ]
  },
  {
   "cell_type": "code",
   "execution_count": 37,
   "id": "ac7a16de",
   "metadata": {},
   "outputs": [
    {
     "name": "stdout",
     "output_type": "stream",
     "text": [
      "15\n",
      "15\n"
     ]
    }
   ],
   "source": [
    "#index() determines if string str occurs in string or in a substring of string if starting index beg and ending index end are given.\n",
    "\n",
    "str1 = \"this is string example....wow!!!\";\n",
    "str2 = \"exam\";\n",
    "\n",
    "print (str1.index(str2))\n",
    "print (str1.index(str2, 10,32))\n"
   ]
  },
  {
   "cell_type": "code",
   "execution_count": 38,
   "id": "64477061",
   "metadata": {},
   "outputs": [
    {
     "name": "stdout",
     "output_type": "stream",
     "text": [
      "True\n",
      "False\n"
     ]
    }
   ],
   "source": [
    "#isalnum() checks whether the string consists of alphanumeric characters.\n",
    "\n",
    "str = \"this2009\";  # No space in this string\n",
    "print (str.isalnum())\n",
    "\n",
    "str = \"this is string example....wow!!!\";\n",
    "print (str.isalnum())"
   ]
  },
  {
   "cell_type": "code",
   "execution_count": 41,
   "id": "068a3f5f",
   "metadata": {},
   "outputs": [
    {
     "name": "stdout",
     "output_type": "stream",
     "text": [
      "True\n",
      "False\n"
     ]
    }
   ],
   "source": [
    "str = \"PrajwalSai\";  # No space & digit in this string\n",
    "print (str.isalpha())\n",
    "\n",
    "str = \"this is string example....wow!!!\";\n",
    "print (str.isalpha())"
   ]
  },
  {
   "cell_type": "code",
   "execution_count": 42,
   "id": "11affd24",
   "metadata": {},
   "outputs": [
    {
     "name": "stdout",
     "output_type": "stream",
     "text": [
      "True\n",
      "False\n"
     ]
    }
   ],
   "source": [
    "str = \"123456\";  # Only digit in this string\n",
    "print (str.isdigit())\n",
    "\n",
    "str = \"this is string example....wow!!!\";\n",
    "print (str.isdigit())"
   ]
  },
  {
   "cell_type": "code",
   "execution_count": 43,
   "id": "132af5e8",
   "metadata": {},
   "outputs": [
    {
     "name": "stdout",
     "output_type": "stream",
     "text": [
      "False\n",
      "True\n"
     ]
    }
   ],
   "source": [
    "str = \"THIS is string example....wow!!!\"; \n",
    "print (str.islower())\n",
    "\n",
    "str = \"this is string example....wow!!!\";\n",
    "print (str.islower())"
   ]
  },
  {
   "cell_type": "code",
   "execution_count": 45,
   "id": "02ab5dfe",
   "metadata": {},
   "outputs": [
    {
     "name": "stdout",
     "output_type": "stream",
     "text": [
      "False\n",
      "True\n"
     ]
    }
   ],
   "source": [
    "str = \"this2009\";  \n",
    "print (str.isnumeric())\n",
    "\n",
    "str = \"23443434\";\n",
    "print (str.isnumeric())"
   ]
  },
  {
   "cell_type": "code",
   "execution_count": 44,
   "id": "29ef4b4e",
   "metadata": {},
   "outputs": [
    {
     "name": "stdout",
     "output_type": "stream",
     "text": [
      "True\n",
      "False\n"
     ]
    }
   ],
   "source": [
    "str = \"  \"; \n",
    "print (str.isspace())\n",
    "\n",
    "str = \"This is string example....wow!!!\";\n",
    "print (str.isspace())"
   ]
  },
  {
   "cell_type": "code",
   "execution_count": 46,
   "id": "046ffccb",
   "metadata": {},
   "outputs": [
    {
     "name": "stdout",
     "output_type": "stream",
     "text": [
      "True\n",
      "False\n"
     ]
    }
   ],
   "source": [
    "str = \"This Is String Example...Wow!!!\";\n",
    "print (str.istitle())\n",
    "\n",
    "str = \"This is string example....wow!!!\";\n",
    "print (str.istitle())"
   ]
  },
  {
   "cell_type": "code",
   "execution_count": 47,
   "id": "c98982e9",
   "metadata": {},
   "outputs": [
    {
     "name": "stdout",
     "output_type": "stream",
     "text": [
      "True\n",
      "False\n"
     ]
    }
   ],
   "source": [
    "\n",
    "str = \"THIS IS STRING EXAMPLE....WOW!!!\"; \n",
    "print (str.isupper())\n",
    "\n",
    "str = \"THIS is string example....wow!!!\";\n",
    "print (str.isupper())"
   ]
  },
  {
   "cell_type": "code",
   "execution_count": 48,
   "id": "778aa1c2",
   "metadata": {},
   "outputs": [
    {
     "name": "stdout",
     "output_type": "stream",
     "text": [
      "abc  *  *  bttt  *  *  cqweqe\n"
     ]
    }
   ],
   "source": [
    "#join() returns a string in which the string elements of sequence have been joined by str separator.\n",
    "\n",
    "s = \"  *  *  \";\n",
    "seq = (\"abc\", \"bttt\", \"cqweqe\"); # This is sequence of strings.\n",
    "print (s.join( seq ))"
   ]
  },
  {
   "cell_type": "code",
   "execution_count": 49,
   "id": "1d77cbd7",
   "metadata": {},
   "outputs": [
    {
     "name": "stdout",
     "output_type": "stream",
     "text": [
      "this is string example....wow!!!     \n",
      "this is string example....wow!!!999999\n",
      "88888888this is string example....wow!!!\n"
     ]
    }
   ],
   "source": [
    "#lstrip() returns a copy of the string in which all chars have been stripped from the beginning of the string (default whitespace characters)\n",
    "\n",
    "str = \"     this is string example....wow!!!     \";\n",
    "print (str.lstrip())\n",
    "str = \"88888888this is string example....wow!!!999999\";\n",
    "print (str.lstrip('8'))\n",
    "print (str.rstrip('9'))\n",
    "\n",
    "\n"
   ]
  },
  {
   "cell_type": "code",
   "execution_count": 50,
   "id": "e2a2a9d6",
   "metadata": {},
   "outputs": [
    {
     "name": "stdout",
     "output_type": "stream",
     "text": [
      "this is string example....wow!!!\n"
     ]
    }
   ],
   "source": [
    "str = \"THIS IS STRING EXAMPLE....WOW!!!\";\n",
    "print (str.lower())"
   ]
  },
  {
   "cell_type": "code",
   "execution_count": 51,
   "id": "7de4ad86",
   "metadata": {},
   "outputs": [
    {
     "name": "stdout",
     "output_type": "stream",
     "text": [
      "Max character: w\n",
      "Max character: s\n"
     ]
    }
   ],
   "source": [
    "#returns largest character\n",
    "str = \"check....wow!!!\";\n",
    "print (\"Max character: \" + max(str))\n",
    "\n",
    "str = \"shabnam....!!!\";\n",
    "print (\"Max character: \" + max(str))"
   ]
  },
  {
   "cell_type": "code",
   "execution_count": 52,
   "id": "adcc15ca",
   "metadata": {},
   "outputs": [
    {
     "name": "stdout",
     "output_type": "stream",
     "text": [
      "Min character: !\n",
      "Min character: !\n"
     ]
    }
   ],
   "source": [
    "str = \"this-is-real-string-example....wow!!!\";\n",
    "print (\"Min character: \" + min(str))\n",
    "\n",
    "str = \"this-is-a-string-example....wow!!!\";\n",
    "print (\"Min character: \" + min(str))"
   ]
  },
  {
   "cell_type": "code",
   "execution_count": 53,
   "id": "1336b206",
   "metadata": {},
   "outputs": [
    {
     "name": "stdout",
     "output_type": "stream",
     "text": [
      "thwas was string example....wow!!! thwas was really string\n",
      "thwas was string example....wow!!! thwas is really string\n"
     ]
    }
   ],
   "source": [
    "#str.replace(old, new[, max])\n",
    "\n",
    "str = \"this is string example....wow!!! this is really string\"\n",
    "print (str.replace(\"is\", \"was\"))\n",
    "print (str.replace(\"is\", \"was\", 3))"
   ]
  },
  {
   "cell_type": "code",
   "execution_count": 54,
   "id": "fc36a866",
   "metadata": {},
   "outputs": [
    {
     "name": "stdout",
     "output_type": "stream",
     "text": [
      "True\n",
      "True\n",
      "False\n"
     ]
    }
   ],
   "source": [
    "str = \"this is string example....wow!!!\";\n",
    "print (str.startswith( 'this' ))\n",
    "print (str.startswith( 'is', 2, 4 ))\n",
    "print (str.startswith( 'this', 2, 4 ))"
   ]
  },
  {
   "cell_type": "code",
   "execution_count": 57,
   "id": "0e8b308d",
   "metadata": {},
   "outputs": [
    {
     "name": "stdout",
     "output_type": "stream",
     "text": [
      "str.capitalize() :  THIS IS STRING EXAMPLE....WOW!!!\n"
     ]
    }
   ],
   "source": [
    "str = \"this is string example....wow!!!\";\n",
    "print (\"str.capitalize() : \", str.upper())"
   ]
  },
  {
   "cell_type": "code",
   "execution_count": 56,
   "id": "f068b6ed",
   "metadata": {},
   "outputs": [
    {
     "name": "stdout",
     "output_type": "stream",
     "text": [
      "THIS IS STRING EXAMPLE....WOW!!!\n",
      "this is string example....wow!!!\n"
     ]
    }
   ],
   "source": [
    "str = \"this is string example....wow!!!\";\n",
    "print (str.swapcase())\n",
    "\n",
    "str = \"THIS IS STRING EXAMPLE....WOW!!!\";\n",
    "print (str.swapcase())"
   ]
  },
  {
   "cell_type": "code",
   "execution_count": null,
   "id": "284b3150",
   "metadata": {},
   "outputs": [],
   "source": []
  }
 ],
 "metadata": {
  "kernelspec": {
   "display_name": "Python 3",
   "language": "python",
   "name": "python3"
  },
  "language_info": {
   "codemirror_mode": {
    "name": "ipython",
    "version": 3
   },
   "file_extension": ".py",
   "mimetype": "text/x-python",
   "name": "python",
   "nbconvert_exporter": "python",
   "pygments_lexer": "ipython3",
   "version": "3.8.8"
  }
 },
 "nbformat": 4,
 "nbformat_minor": 5
}
