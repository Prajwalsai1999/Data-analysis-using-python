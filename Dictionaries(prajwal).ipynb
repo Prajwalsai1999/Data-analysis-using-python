{
 "cells": [
  {
   "cell_type": "code",
   "execution_count": 3,
   "id": "e139d423",
   "metadata": {},
   "outputs": [
    {
     "name": "stdout",
     "output_type": "stream",
     "text": [
      "Prajwal\n",
      "Masters USA\n"
     ]
    }
   ],
   "source": [
    "dict={'name':'Prajwal','designation':'AsP','qual':'Masters USA','univ':'cmr'}\n",
    "print(dict['name'])\n",
    "\n",
    "\n",
    "print(dict['qual'])\n"
   ]
  },
  {
   "cell_type": "code",
   "execution_count": 6,
   "id": "e56c466a",
   "metadata": {},
   "outputs": [
    {
     "name": "stdout",
     "output_type": "stream",
     "text": [
      "Prajwal Sai\n",
      "CSE 7sem\n"
     ]
    }
   ],
   "source": [
    "dict={'name':'Prajwal sai','designation':'AsP','qual':'phd','univ':'cmr'}\n",
    "\n",
    "dict['name']='Prajwal Sai'\n",
    "\n",
    "print(dict['name'])\n",
    "\n",
    "dict['class']='CSE 7sem'\n",
    "\n",
    "print(dict['class'])\n"
   ]
  },
  {
   "cell_type": "code",
   "execution_count": 8,
   "id": "c4764670",
   "metadata": {},
   "outputs": [],
   "source": [
    "dict={'name':'Prajwal Sai','designation':'AsP','qual':'phd','univ':'cmr'}\n",
    "\n",
    "\n",
    "del dict['designation']\n",
    "\n",
    "#print(dict['designation'])\n",
    "\n",
    "dict.clear()\n",
    "\n",
    "#print(dict['name'])\n",
    "\n",
    "del dict"
   ]
  },
  {
   "cell_type": "code",
   "execution_count": 12,
   "id": "fb7567b2",
   "metadata": {},
   "outputs": [
    {
     "name": "stdout",
     "output_type": "stream",
     "text": [
      "Shabnam Sharma mam\n",
      "4\n"
     ]
    }
   ],
   "source": [
    "dict={'name':'Prajwal','designation':'AsP','qual':'phd','univ':'cmr', 'name':'Shabnam Sharma mam'}\n",
    "\n",
    "\n",
    "print(dict['name'])\n",
    "\n",
    "print(len(dict))"
   ]
  },
  {
   "cell_type": "code",
   "execution_count": 13,
   "id": "511d656a",
   "metadata": {},
   "outputs": [
    {
     "name": "stdout",
     "output_type": "stream",
     "text": [
      "dict_values(['Nishitha', 'AsP', 'phd', 'cmr'])\n",
      "dict_items([('name', 'Nishitha'), ('designation', 'AsP'), ('qual', 'phd'), ('univ', 'cmr')])\n",
      "dict_keys(['name', 'designation', 'qual', 'univ'])\n"
     ]
    }
   ],
   "source": [
    "dict={'name':'Prajwal','designation':'AsP','qual':'phd','univ':'cmr', 'name':'Nishitha'}\n",
    "\n",
    "\n",
    "print(dict.values())\n",
    "\n",
    "print(dict.items())\n",
    "\n",
    "print(dict.keys())"
   ]
  },
  {
   "cell_type": "code",
   "execution_count": 17,
   "id": "6a9f290b",
   "metadata": {},
   "outputs": [
    {
     "name": "stdout",
     "output_type": "stream",
     "text": [
      "Nishitha\n",
      "nothing\n"
     ]
    }
   ],
   "source": [
    "dict={'name':'prajwal','designation':'AsP','qual':'phd','univ':'cmr', 'name':'Nishitha'}\n",
    "\n",
    "\n",
    "print(dict['name'])\n",
    "\n",
    "print(dict.get('edu',\"nothing\"))\n"
   ]
  },
  {
   "cell_type": "code",
   "execution_count": 19,
   "id": "fd99732e",
   "metadata": {},
   "outputs": [
    {
     "name": "stdout",
     "output_type": "stream",
     "text": [
      "Prajwal\n",
      "4\n"
     ]
    }
   ],
   "source": [
    "dict={'name':'shabnam','designation':'AsP','qual':'phd','univ':'cmr', 'name':'Prajwal'}\n",
    "\n",
    "\n",
    "dict2=dict.copy()\n",
    "\n",
    "print(dict2['name'])\n",
    "\n",
    "print(len(dict2))"
   ]
  },
  {
   "cell_type": "code",
   "execution_count": 20,
   "id": "5f709639",
   "metadata": {},
   "outputs": [
    {
     "name": "stdout",
     "output_type": "stream",
     "text": [
      "{'name': 'Nishitha', 'designation': 'AsP', 'qual': 'phd', 'univ': 'cmr'}\n",
      "{'edu': 'btech-mtech', 'students': '7sem'}\n",
      "{'name': 'Nishitha', 'designation': 'AsP', 'qual': 'phd', 'univ': 'cmr', 'edu': 'btech-mtech', 'students': '7sem'}\n"
     ]
    }
   ],
   "source": [
    "dict={'name':'Prajwal','designation':'AsP','qual':'phd','univ':'cmr', 'name':'Nishitha'}\n",
    "\n",
    "\n",
    "dict2={'edu':'btech-mtech','students':'7sem'}\n",
    "\n",
    "print(dict)\n",
    "print(dict2)\n",
    "\n",
    "dict.update(dict2)\n",
    "\n",
    "print(dict)"
   ]
  },
  {
   "cell_type": "code",
   "execution_count": null,
   "id": "e91de50b",
   "metadata": {},
   "outputs": [],
   "source": []
  }
 ],
 "metadata": {
  "kernelspec": {
   "display_name": "Python 3",
   "language": "python",
   "name": "python3"
  },
  "language_info": {
   "codemirror_mode": {
    "name": "ipython",
    "version": 3
   },
   "file_extension": ".py",
   "mimetype": "text/x-python",
   "name": "python",
   "nbconvert_exporter": "python",
   "pygments_lexer": "ipython3",
   "version": "3.8.8"
  }
 },
 "nbformat": 4,
 "nbformat_minor": 5
}
