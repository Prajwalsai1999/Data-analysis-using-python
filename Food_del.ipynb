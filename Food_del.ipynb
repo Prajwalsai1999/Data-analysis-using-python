{
  "nbformat": 4,
  "nbformat_minor": 0,
  "metadata": {
    "colab": {
      "name": "Food del.ipynb",
      "provenance": [],
      "collapsed_sections": []
    },
    "kernelspec": {
      "name": "python3",
      "display_name": "Python 3"
    },
    "language_info": {
      "name": "python"
    }
  },
  "cells": [
    {
      "cell_type": "code",
      "metadata": {
        "colab": {
          "base_uri": "https://localhost:8080/"
        },
        "id": "2BuybX6e1PJ_",
        "outputId": "b6377d04-9ce2-4c08-8d78-566fee7aa750"
      },
      "source": [
        "deli=['Zomato','Swiggy','Amazon Food']\n",
        "foo=['Burger','Roll','Pizza']\n",
        "pri=[120,100,200]\n",
        "repeat='y'\n",
        "while(repeat!='n'):\n",
        "  user=int(input(\"1. Zomato\\n2. Swiggy\\n3. Amazon Food\\nEnter your preferred delivery partner \"))\n",
        "  choice=int(input(\"\\n1. Burger : 120/-\\n2. Roll : 100/-\\n3. Pizza : 200/-\\nEnter your choice \"))\n",
        "  loc=input(\"\\nEnter your address \")\n",
        "  print(\"\\nYour order for\",foo[choice-1],\"has been placed on\",deli[user-1],\"and will arrive at your address\",loc,\"\\nTotal payment to be made is \",pri[choice-1])\n",
        "  repeat=input(\"Do you wish to order again? (y/n)\\n\")"
      ],
      "execution_count": 3,
      "outputs": [
        {
          "output_type": "stream",
          "text": [
            "1. Zomato\n",
            "2. Swiggy\n",
            "3. Amazon Food\n",
            "Enter your preferred delivery partner 2\n",
            "\n",
            "1. Burger : 120/-\n",
            "2. Roll : 100/-\n",
            "3. Pizza : 200/-\n",
            "Enter your choice 2\n",
            "\n",
            "Enter your address abc\n",
            "\n",
            "Your order for Roll has been placed on Swiggy and will arrive at your address abc \n",
            "Total payment to be made is  100\n",
            "Do you wish to order again? (y/n)y\n",
            "1. Zomato\n",
            "2. Swiggy\n",
            "3. Amazon Food\n",
            "Enter your preferred delivery partner 1\n",
            "\n",
            "1. Burger : 120/-\n",
            "2. Roll : 100/-\n",
            "3. Pizza : 200/-\n",
            "Enter your choice 1\n",
            "\n",
            "Enter your address abc\n",
            "\n",
            "Your order for Burger has been placed on Zomato and will arrive at your address abc \n",
            "Total payment to be made is  120\n",
            "Do you wish to order again? (y/n)n\n"
          ],
          "name": "stdout"
        }
      ]
    }
  ]
}