{
 "cells": [
  {
   "cell_type": "code",
   "execution_count": 1,
   "id": "2fb9d850",
   "metadata": {},
   "outputs": [
    {
     "name": "stdout",
     "output_type": "stream",
     "text": [
      "enter the number?3\n",
      "bye\n"
     ]
    }
   ],
   "source": [
    "    num = int(input(\"enter the number?\"))  \n",
    "    if num%2 == 0:  \n",
    "        print(\"Number is even\")\n",
    "    print(\"bye\")\n",
    "        "
   ]
  },
  {
   "cell_type": "code",
   "execution_count": 3,
   "id": "b30ddd5a",
   "metadata": {},
   "outputs": [
    {
     "name": "stdout",
     "output_type": "stream",
     "text": [
      "Enter a- 10\n",
      "Enter b- 20\n",
      "Enter c- 12\n",
      "b is largest\n"
     ]
    }
   ],
   "source": [
    "    a = int(input(\"Enter a- \"));  \n",
    "    b = int(input(\"Enter b- \"));  \n",
    "    c = int(input(\"Enter c- \"));  \n",
    "    if a>b and a>c:  \n",
    "        print(\"a is largest\");  \n",
    "    if b>a and b>c:  \n",
    "        print(\"b is largest\");  \n",
    "    if c>a and c>b:  \n",
    "        print(\"c is largest\");  "
   ]
  },
  {
   "cell_type": "code",
   "execution_count": 4,
   "id": "58eb5368",
   "metadata": {},
   "outputs": [
    {
     "name": "stdout",
     "output_type": "stream",
     "text": [
      "Enter your age? 4\n",
      "Sorry! you have to wait !!\n"
     ]
    }
   ],
   "source": [
    "    age = int (input(\"Enter your age? \"))  \n",
    "    if age>=18:  \n",
    "        print(\"You are eligible to vote !!\");  \n",
    "    else:  \n",
    "        print(\"Sorry! you have to wait !!\");  "
   ]
  },
  {
   "cell_type": "code",
   "execution_count": 5,
   "id": "1bf11fab",
   "metadata": {},
   "outputs": [
    {
     "name": "stdout",
     "output_type": "stream",
     "text": [
      "enter the number?5\n",
      "Number is odd...\n"
     ]
    }
   ],
   "source": [
    "    num = int(input(\"enter the number?\"))  \n",
    "    if num%2 == 0:  \n",
    "        print(\"Number is even...\")  \n",
    "    else:  \n",
    "        print(\"Number is odd...\")  "
   ]
  },
  {
   "cell_type": "code",
   "execution_count": 6,
   "id": "f7e5a67f",
   "metadata": {},
   "outputs": [
    {
     "name": "stdout",
     "output_type": "stream",
     "text": [
      "Enter the number?5\n",
      "number is not equal to 10, 50 or 100\n"
     ]
    }
   ],
   "source": [
    "    number = int(input(\"Enter the number?\"))  \n",
    "    if number==10:  \n",
    "        print(\"number is equals to 10\")  \n",
    "    elif number==50:  \n",
    "        print(\"number is equal to 50\");  \n",
    "    elif number==100:  \n",
    "        print(\"number is equal to 100\");  \n",
    "    else:  \n",
    "        print(\"number is not equal to 10, 50 or 100\");  "
   ]
  },
  {
   "cell_type": "code",
   "execution_count": 7,
   "id": "9ff186e8",
   "metadata": {},
   "outputs": [
    {
     "name": "stdout",
     "output_type": "stream",
     "text": [
      "Enter the number?89\n",
      "number is not equal to 10, 50 or 100\n"
     ]
    }
   ],
   "source": [
    "number = input(\"Enter the number?\")\n",
    "if number==10:  \n",
    "    print(\"number is equals to 10\")  \n",
    "elif number==50:  \n",
    "    print(\"number is equal to 50\");  \n",
    "elif number==100:  \n",
    "    print(\"number is equal to 100\");  \n",
    "else:  \n",
    "    print(\"number is not equal to 10, 50 or 100\");  "
   ]
  },
  {
   "cell_type": "code",
   "execution_count": 8,
   "id": "1aae4562",
   "metadata": {},
   "outputs": [
    {
     "name": "stdout",
     "output_type": "stream",
     "text": [
      "Enter the marks? 56\n",
      "You scored grade B ...\n"
     ]
    }
   ],
   "source": [
    "    marks = int(input(\"Enter the marks? \"))  \n",
    "    if marks > 85 and marks <= 100:  \n",
    "       print(\"Congrats ! you scored grade A ...\")  \n",
    "    elif marks > 60 and marks <= 85:  \n",
    "       print(\"You scored grade B + ...\")  \n",
    "    elif marks > 40 and marks <= 60:  \n",
    "       print(\"You scored grade B ...\")  \n",
    "    elif (marks > 30 and marks <= 40):  \n",
    "       print(\"You scored grade C ...\")  \n",
    "    else:  \n",
    "       print(\"Sorry you are fail ?\")  "
   ]
  },
  {
   "cell_type": "code",
   "execution_count": null,
   "id": "5a7456fd",
   "metadata": {},
   "outputs": [],
   "source": []
  }
 ],
 "metadata": {
  "kernelspec": {
   "display_name": "Python 3",
   "language": "python",
   "name": "python3"
  },
  "language_info": {
   "codemirror_mode": {
    "name": "ipython",
    "version": 3
   },
   "file_extension": ".py",
   "mimetype": "text/x-python",
   "name": "python",
   "nbconvert_exporter": "python",
   "pygments_lexer": "ipython3",
   "version": "3.8.8"
  }
 },
 "nbformat": 4,
 "nbformat_minor": 5
}
