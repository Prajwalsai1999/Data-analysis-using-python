{
 "cells": [
  {
   "cell_type": "code",
   "execution_count": 4,
   "id": "8fb70d68",
   "metadata": {},
   "outputs": [
    {
     "name": "stdout",
     "output_type": "stream",
     "text": [
      "Do you want to rechage ? Press Y to continue\n",
      "Y\n",
      "Press 1 for Prepaid or 2 for Postpaid\n",
      "1\n",
      "Enter mobile number\n",
      "890\n",
      "select operator-press 1 for airtel, 2 for jio, 3 for vodafone\n",
      "5\n",
      "Select operator\n",
      "select plan\n",
      "Plan A:Unlimited calls(I/O) or Plan B: Unlimited calls + unlimited data\n"
     ]
    }
   ],
   "source": [
    "# Ques-write a python program for recharge plan for your service provider\n",
    "\n",
    "print(\"Do you want to rechage ? Press Y to continue\")\n",
    "a=input()\n",
    "if a!='Y':\n",
    "    print(\"You have given wrong input\")\n",
    "    print(\"Do you want to continue, press Y\")\n",
    "    a=input()\n",
    "print(\"Press 1 for Prepaid or 2 for Postpaid\")\n",
    "b=int(input())\n",
    "print(\"Enter mobile number\")\n",
    "\n",
    "mob=int(input())\n",
    "print(\"select operator-press 1 for airtel, 2 for jio, 3 for vodafone\")\n",
    "mobi=int(input())\n",
    "if mobi==1:\n",
    "    oper='airtel'\n",
    "elif mobi==2:\n",
    "    oper='jio'\n",
    "elif mobi==3:\n",
    "    oper=='idea'\n",
    "else:\n",
    "    print(\"Select operator\")\n",
    "print (\"select plan\")\n",
    "print(\"Plan A:Unlimited calls(I/O) or Plan B: Unlimited calls + unlimited data\")"
   ]
  },
  {
   "cell_type": "code",
   "execution_count": 5,
   "id": "79adac1d",
   "metadata": {},
   "outputs": [
    {
     "name": "stdout",
     "output_type": "stream",
     "text": [
      "\n",
      "Inventory is\n",
      "\n",
      "Name          \tPrice\tQuantity\tManufacturer\n",
      "Mouse         \t500  \t20      \tHP          \n",
      "Keyboard      \t1000 \t15      \tLogitech    \n",
      "Monitor       \t2500 \t10      \tAsus        \n",
      "MS Office 2021\t1000 \t25      \tMicrosoft   \n",
      "\n",
      "p : purchase\n",
      "c : count\n",
      "e : exit\n",
      "p\n",
      "Enter the index (1=Mouse, 2=Keyboard..) 2\n",
      "How many units you want to buy? 3\n",
      "Purchase successful\n",
      "\n",
      "Inventory is\n",
      "\n",
      "Name          \tPrice\tQuantity\tManufacturer\n",
      "Mouse         \t500  \t20      \tHP          \n",
      "Keyboard      \t1000 \t12      \tLogitech    \n",
      "Monitor       \t2500 \t10      \tAsus        \n",
      "MS Office 2021\t1000 \t25      \tMicrosoft   \n",
      "\n",
      "p : purchase\n",
      "c : count\n",
      "e : exit\n",
      "e\n",
      "\n",
      "Your total bill amount is  3000 \n",
      "Thank you for doing business with us.\n"
     ]
    }
   ],
   "source": [
    "def show():\n",
    "  s = [[str(e) for e in row] for row in h]\n",
    "  lens = [max(map(len, col)) for col in zip(*s)]\n",
    "  fmt = '\\t'.join('{{:{}}}'.format(x) for x in lens)\n",
    "  table = [fmt.format(*row) for row in s]\n",
    "  print('\\n'.join(table))\n",
    "  \n",
    "def checkInven():\n",
    "  for i in range(1,len(h)):\n",
    "    if(h[i][2]<=5):\n",
    "      print(\"\\nStock replinished\")\n",
    "      h[i][2]=20\n",
    "\n",
    "h=[['Name','Price','Quantity', 'Manufacturer'],['Mouse',500,20,'HP'],['Keyboard',1000,15,'Logitech'],['Monitor',2500,10,'Asus'],['MS Office 2021',1000,25,'Microsoft']]\n",
    "n='a'\n",
    "cost=0\n",
    "while(n!='e'):\n",
    "  checkInven()\n",
    "  print(\"\\nInventory is\\n\")\n",
    "  show()\n",
    "  n=input(\"\\np : purchase\\nc : count\\ne : exit\\n\")\n",
    "  if(n=='p'):\n",
    "    a=int(input(\"Enter the index (1=Mouse, 2=Keyboard..) \"))\n",
    "    if(a>4):\n",
    "      print(\"Incorrect option. Try again.\")\n",
    "      continue\n",
    "    count=int(input(\"How many units you want to buy? \"))\n",
    "    if(h[a][2]<count):\n",
    "      print(\"Sorry.. not enough stock\")\n",
    "    else:\n",
    "      h[a][2]-=count\n",
    "      print(\"Purchase successful\")\n",
    "      cost+=h[a][1]*count\n",
    "  elif(n=='c'):\n",
    "    b=int(input(\"Enter the index (1=Mouse, 2=Keyboard..) \"))\n",
    "    if(b>4):\n",
    "      print(\"Incorrect option. Try again.\")\n",
    "      continue\n",
    "    print(\"Stock left is \",h[b][2])\n",
    "  elif(n=='e'):\n",
    "    pass\n",
    "  else:\n",
    "    print(\"Incorrect option. Try again.\")\n",
    "print(\"\\nYour total bill amount is \",cost,\"\\nThank you for doing business with us.\")\n"
   ]
  },
  {
   "cell_type": "code",
   "execution_count": 14,
   "id": "4d2e63aa",
   "metadata": {},
   "outputs": [
    {
     "name": "stdout",
     "output_type": "stream",
     "text": [
      "\"Do you want to recharge?\n",
      "Press Y for yes and any other key for noY\n",
      "Press 1 for prepaid and any other key for postpaid1\n",
      "Enter mobile no89000000000000\n",
      "choose your operator\n",
      "1. Airtel\n",
      "2. Jio\n",
      "3. VI1\n",
      "Choose a recharge amt\n",
      "199 : 2 GB data/day for 1 month\n",
      "299 : 2 GB data/day for 2 month\n",
      " 399 : 2gb data/day for 3 months190\n",
      "press 1 to confirm any other key to cancel1\n",
      "your recharge for no 89000000000000 for amt 190 has been successfull!!\n"
     ]
    }
   ],
   "source": [
    "ch=str(input(\"\\\"Do you want to recharge?\\nPress Y for yes and any other key for no\")) \n",
    "if ch=='Y' or ch=='y':\n",
    "    opt=int(input(\"Press 1 for prepaid and any other key for postpaid\"))\n",
    "    if opt==1:\n",
    "        no=int (input (\"Enter mobile no\"))\n",
    "        operator=int(input(\"choose your operator\\n1. Airtel\\n2. Jio\\n3. VI\")) \n",
    "        amt=int(input(\"Choose a recharge amt\\n199 : 2 GB data/day for 1 month\\n299 : 2 GB data/day for 2 month\\n 399 : 2gb data/day for 3 months\"))\n",
    "        confirm=int(input(\"press 1 to confirm any other key to cancel\"))\n",
    "        if confirm==1:\n",
    "            print(\"your recharge for no {} for amt {} has been successfull!!\".format(no, amt))\n"
   ]
  },
  {
   "cell_type": "code",
   "execution_count": null,
   "id": "a1ea2627",
   "metadata": {},
   "outputs": [],
   "source": []
  },
  {
   "cell_type": "code",
   "execution_count": null,
   "id": "61c4c605",
   "metadata": {},
   "outputs": [],
   "source": []
  },
  {
   "cell_type": "code",
   "execution_count": null,
   "id": "e36d670e",
   "metadata": {},
   "outputs": [],
   "source": []
  }
 ],
 "metadata": {
  "kernelspec": {
   "display_name": "Python 3",
   "language": "python",
   "name": "python3"
  },
  "language_info": {
   "codemirror_mode": {
    "name": "ipython",
    "version": 3
   },
   "file_extension": ".py",
   "mimetype": "text/x-python",
   "name": "python",
   "nbconvert_exporter": "python",
   "pygments_lexer": "ipython3",
   "version": "3.8.8"
  }
 },
 "nbformat": 4,
 "nbformat_minor": 5
}
