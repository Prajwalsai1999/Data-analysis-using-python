{
 "cells": [
  {
   "cell_type": "code",
   "execution_count": 1,
   "id": "55729625",
   "metadata": {},
   "outputs": [
    {
     "name": "stdout",
     "output_type": "stream",
     "text": [
      "Python is really a great language, isn't it?\n"
     ]
    }
   ],
   "source": [
    "print (\"Python is really a great language,\", \"isn't it?\")"
   ]
  },
  {
   "cell_type": "code",
   "execution_count": 2,
   "id": "b0a5ed86",
   "metadata": {},
   "outputs": [
    {
     "name": "stdout",
     "output_type": "stream",
     "text": [
      "Name of the file:  cse7sem.txt\n"
     ]
    }
   ],
   "source": [
    "\n",
    "# Open a file\n",
    "fo = open(\"cse7sem.txt\", \"wb\")\n",
    "print (\"Name of the file: \", fo.name)\n",
    "\n",
    "# Close opend file\n",
    "fo.close()"
   ]
  },
  {
   "cell_type": "code",
   "execution_count": 12,
   "id": "b5cba2f8",
   "metadata": {},
   "outputs": [
    {
     "name": "stdout",
     "output_type": "stream",
     "text": [
      "sharmaPrajwalPrajwalsharma\n"
     ]
    }
   ],
   "source": [
    "f = open(\"cse7sem1.txt\", \"a\")\n",
    "f.write(\"sharma\")\n",
    "f.close()\n",
    "\n",
    "#open and read the file after the appending:\n",
    "f = open(\"cse7sem1.txt\", \"r\")\n",
    "print(f.read()) "
   ]
  },
  {
   "cell_type": "code",
   "execution_count": 4,
   "id": "8cea66c9",
   "metadata": {},
   "outputs": [
    {
     "name": "stdout",
     "output_type": "stream",
     "text": [
      "Read String is :  \n"
     ]
    }
   ],
   "source": [
    "# Open a file\n",
    "fo = open(\"cse7sem.txt\", \"r+\")\n",
    "str = fo.read(10);\n",
    "print (\"Read String is : \", str)\n",
    "# Close opend file\n",
    "fo.close()"
   ]
  },
  {
   "cell_type": "code",
   "execution_count": 5,
   "id": "b57953d7",
   "metadata": {},
   "outputs": [
    {
     "name": "stdout",
     "output_type": "stream",
     "text": [
      "Name of the file:  cse7sem.txt\n",
      "Closed or not :  False\n",
      "Opening mode :  wb\n"
     ]
    }
   ],
   "source": [
    "fo = open(\"cse7sem.txt\", \"wb\")\n",
    "print (\"Name of the file: \", fo.name)\n",
    "print (\"Closed or not : \", fo.closed)\n",
    "print (\"Opening mode : \", fo.mode)\n"
   ]
  },
  {
   "cell_type": "code",
   "execution_count": 10,
   "id": "3775705f",
   "metadata": {},
   "outputs": [
    {
     "name": "stdout",
     "output_type": "stream",
     "text": [
      "Read String is :  sharmaPraj\n",
      "Current file position :  10\n",
      "Again read String is :  harmaPr\n",
      "my new string=  ajw\n"
     ]
    }
   ],
   "source": [
    "# Open a file\n",
    "fo = open(\"cse7sem1.txt\", \"r+\")\n",
    "\n",
    "str = fo.read(10)\n",
    "print (\"Read String is : \", str) #shabnamsha---output\n",
    "\n",
    "# Check current position\n",
    "position = fo.tell()\n",
    "print (\"Current file position : \", position)\n",
    "\n",
    "# Reposition pointer at the beginning once again\n",
    "position = fo.seek(1, 0);\n",
    "str = fo.read(7)\n",
    "print (\"Again read String is : \", str)\n",
    "\n",
    "ptr=fo.seek(0,1)\n",
    "str1=fo.read(3)\n",
    "print(\"my new string= \", str1)\n",
    "\n",
    "# Close opened file\n",
    "fo.close()"
   ]
  },
  {
   "cell_type": "code",
   "execution_count": null,
   "id": "6746d4d9",
   "metadata": {},
   "outputs": [],
   "source": []
  },
  {
   "cell_type": "code",
   "execution_count": null,
   "id": "7b5a751f",
   "metadata": {},
   "outputs": [],
   "source": []
  }
 ],
 "metadata": {
  "kernelspec": {
   "display_name": "Python 3",
   "language": "python",
   "name": "python3"
  },
  "language_info": {
   "codemirror_mode": {
    "name": "ipython",
    "version": 3
   },
   "file_extension": ".py",
   "mimetype": "text/x-python",
   "name": "python",
   "nbconvert_exporter": "python",
   "pygments_lexer": "ipython3",
   "version": "3.8.8"
  }
 },
 "nbformat": 4,
 "nbformat_minor": 5
}
