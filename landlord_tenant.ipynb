{
  "nbformat": 4,
  "nbformat_minor": 0,
  "metadata": {
    "colab": {
      "name": "landlord_tenant.ipynb",
      "provenance": [],
      "collapsed_sections": []
    },
    "kernelspec": {
      "name": "python3",
      "display_name": "Python 3"
    },
    "language_info": {
      "name": "python"
    }
  },
  "cells": [
    {
      "cell_type": "code",
      "metadata": {
        "colab": {
          "base_uri": "https://localhost:8080/"
        },
        "id": "WgHKkc-a4jHQ",
        "outputId": "e8923ea1-740d-4cc8-ed01-7637bea24f5a"
      },
      "source": [
        "utilities=input(\"Enter all bills to be shared separated with a comma\\n\")\n",
        "l1=utilities.split(\",\")\n",
        "l2=[]\n",
        "sum=0\n",
        "n=int(input(\"Enter no. of tenants \"))\n",
        "n+=1\n",
        "for i in range(len(l1)):\n",
        "  print(\"Enter total amount for\",l1[i],\"bill \")\n",
        "  l2.append(float(input()))\n",
        "for i in range(len(l1)):\n",
        "  sum+=round(l2[i]/n,2)\n",
        "  print(\"The\",l1[i],\"bill is split as\",round(l2[i]/n,2),\"per head\")\n",
        "print(\"\\nThe total per head is\",sum)"
      ],
      "execution_count": 11,
      "outputs": [
        {
          "output_type": "stream",
          "text": [
            "Enter all bills to be shared separated with a comma\n",
            "w,e,n\n",
            "Enter no. of tenants 1\n",
            "Enter total amount for w bill \n",
            "100\n",
            "Enter total amount for e bill \n",
            "200\n",
            "Enter total amount for n bill \n",
            "30\n",
            "The w bill is split as 50.0 per head\n",
            "The e bill is split as 100.0 per head\n",
            "The n bill is split as 15.0 per head\n",
            "The total per head is 165.0\n"
          ],
          "name": "stdout"
        }
      ]
    }
  ]
}