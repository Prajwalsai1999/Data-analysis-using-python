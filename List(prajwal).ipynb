{
 "cells": [
  {
   "cell_type": "code",
   "execution_count": 1,
   "id": "48d93813",
   "metadata": {},
   "outputs": [
    {
     "name": "stdout",
     "output_type": "stream",
     "text": [
      "list1[0]:  1997\n",
      "list2[1:5]:  [2, 3]\n"
     ]
    }
   ],
   "source": [
    "list1 = ['physics', 'chemistry', 1997, 2000];\n",
    "list2 = [1, 2, 3, 4, 5, 6, 7 ];\n",
    "print (\"list1[0]: \", list1[2])\n",
    "print (\"list2[1:5]: \", list2[1:3])"
   ]
  },
  {
   "cell_type": "code",
   "execution_count": 2,
   "id": "090ef244",
   "metadata": {},
   "outputs": [
    {
     "name": "stdout",
     "output_type": "stream",
     "text": [
      "Value available at index 2 : \n",
      "1997\n",
      "New value available at index 2 : \n",
      "999999\n"
     ]
    }
   ],
   "source": [
    "list = ['physics', 'chemistry', 1997, 2000];\n",
    "print (\"Value available at index 2 : \")\n",
    "print (list[2])\n",
    "list[2] = 999999;\n",
    "print (\"New value available at index 2 : \")\n",
    "print (list[2])"
   ]
  },
  {
   "cell_type": "code",
   "execution_count": 3,
   "id": "5958a52b",
   "metadata": {},
   "outputs": [
    {
     "name": "stdout",
     "output_type": "stream",
     "text": [
      "['physics', 'chemistry', 1997, 2000]\n",
      "After deleting value at index 2 :\n",
      "['physics', 'chemistry', 2000]\n"
     ]
    }
   ],
   "source": [
    "list1 = ['physics', 'chemistry', 1997, 2000];\n",
    "print (list1)\n",
    "del (list1[2]);\n",
    "print (\"After deleting value at index 2 :\")\n",
    "print (list1)"
   ]
  },
  {
   "cell_type": "code",
   "execution_count": 4,
   "id": "55bceaf8",
   "metadata": {},
   "outputs": [
    {
     "name": "stdout",
     "output_type": "stream",
     "text": [
      "First list length :  3\n",
      "Second list length :  2\n"
     ]
    }
   ],
   "source": [
    "list1, list2 = [123, 'xyz', 'zara'], [456, 'abc']\n",
    "print (\"First list length : \", len(list1))\n",
    "print (\"Second list length : \", len(list2))"
   ]
  },
  {
   "cell_type": "code",
   "execution_count": 5,
   "id": "f88d4ac1",
   "metadata": {},
   "outputs": [
    {
     "name": "stdout",
     "output_type": "stream",
     "text": [
      "Updated List :  [123, 'xyz', 'zara', 'abc', 2009]\n"
     ]
    }
   ],
   "source": [
    "aList = [123, 'xyz', 'zara', 'abc'];\n",
    "aList.append( 2009 );\n",
    "print (\"Updated List : \", aList)"
   ]
  },
  {
   "cell_type": "code",
   "execution_count": 6,
   "id": "38969d14",
   "metadata": {},
   "outputs": [
    {
     "name": "stdout",
     "output_type": "stream",
     "text": [
      "Count for xyz :  2\n",
      "Count for zara :  0\n"
     ]
    }
   ],
   "source": [
    "aList = [123, 'xyz', 'xyz', 'abc', 123];\n",
    "print (\"Count for xyz : \", aList.count('xyz'))\n",
    "print (\"Count for zara : \", aList.count('zara'))"
   ]
  },
  {
   "cell_type": "code",
   "execution_count": 7,
   "id": "cbb9ce56",
   "metadata": {},
   "outputs": [
    {
     "name": "stdout",
     "output_type": "stream",
     "text": [
      "Count for xyz :  2\n",
      "Count for zara :  0\n"
     ]
    }
   ],
   "source": [
    "aList = [123, 'xyz', 'xyz', 'abc', 123];\n",
    "print (\"Count for xyz : \", aList.count('xyz'))\n",
    "print (\"Count for zara : \", aList.count('zara'))"
   ]
  },
  {
   "cell_type": "code",
   "execution_count": 8,
   "id": "ee7930d8",
   "metadata": {},
   "outputs": [
    {
     "name": "stdout",
     "output_type": "stream",
     "text": [
      "Index for xyz :  1\n",
      "Index for zara :  2\n"
     ]
    }
   ],
   "source": [
    "aList = [123, 'xyz', 'zara', 'abc', 'zara'];\n",
    "print (\"Index for xyz : \", aList.index( 'xyz' ) )\n",
    "print (\"Index for zara : \", aList.index( 'zara' ) )"
   ]
  },
  {
   "cell_type": "code",
   "execution_count": 9,
   "id": "5d6364e4",
   "metadata": {},
   "outputs": [
    {
     "name": "stdout",
     "output_type": "stream",
     "text": [
      "Final List :  [123, 'xyz', 'zara', 2009, 'abc']\n"
     ]
    }
   ],
   "source": [
    "aList = [123, 'xyz', 'zara', 'abc']\n",
    "aList.insert( 3, 2009)\n",
    "print (\"Final List : \", aList)"
   ]
  },
  {
   "cell_type": "code",
   "execution_count": 10,
   "id": "76f0a41f",
   "metadata": {},
   "outputs": [
    {
     "name": "stdout",
     "output_type": "stream",
     "text": [
      "[123, 'xyz', 'zara', 'abc']\n",
      "List after popping last element :  abc\n",
      "[123, 'xyz', 'zara']\n",
      "List after popping element from mentioned index:  zara\n",
      "[123, 'xyz']\n",
      "[123, 'xyz', 2009]\n"
     ]
    }
   ],
   "source": [
    "aList = [123, 'xyz', 'zara', 'abc'];\n",
    "\n",
    "print(aList)\n",
    "\n",
    "print (\"List after popping last element : \", aList.pop())\n",
    "\n",
    "print(aList)\n",
    "\n",
    "print (\"List after popping element from mentioned index: \", aList.pop(2))\n",
    "\n",
    "print(aList)\n",
    "\n",
    "aList.insert(3, 2009)\n",
    "\n",
    "print(aList)"
   ]
  },
  {
   "cell_type": "code",
   "execution_count": 11,
   "id": "57bae3b3",
   "metadata": {},
   "outputs": [
    {
     "name": "stdout",
     "output_type": "stream",
     "text": [
      "List :  [123, 'zara', 'abc', 'xyz']\n",
      "List :  [123, 'zara', 'xyz']\n"
     ]
    }
   ],
   "source": [
    "aList = [123, 'xyz', 'zara', 'abc', 'xyz'];\n",
    "aList.remove('xyz');\n",
    "print (\"List : \", aList)\n",
    "aList.remove('abc');\n",
    "print (\"List : \", aList)"
   ]
  },
  {
   "cell_type": "code",
   "execution_count": 12,
   "id": "13d1e339",
   "metadata": {},
   "outputs": [
    {
     "name": "stdout",
     "output_type": "stream",
     "text": [
      "List :  ['nive', 'abc', 'zara', 'xyz', 'shabnam']\n"
     ]
    }
   ],
   "source": [
    "aList = ['shabnam', 'xyz', 'zara', 'abc', 'nive'];\n",
    "aList.reverse();\n",
    "print (\"List : \", aList)"
   ]
  },
  {
   "cell_type": "code",
   "execution_count": 13,
   "id": "baa78896",
   "metadata": {},
   "outputs": [
    {
     "name": "stdout",
     "output_type": "stream",
     "text": [
      "List :  ['ali', 'naveen', 'nive', 'shabnam', 'sonia']\n"
     ]
    }
   ],
   "source": [
    "aList = ['naveen', 'shabnam', 'sonia', 'ali', 'nive'];\n",
    "aList.sort();\n",
    "print (\"List : \", aList)"
   ]
  },
  {
   "cell_type": "code",
   "execution_count": null,
   "id": "5a7135b4",
   "metadata": {},
   "outputs": [],
   "source": []
  }
 ],
 "metadata": {
  "kernelspec": {
   "display_name": "Python 3",
   "language": "python",
   "name": "python3"
  },
  "language_info": {
   "codemirror_mode": {
    "name": "ipython",
    "version": 3
   },
   "file_extension": ".py",
   "mimetype": "text/x-python",
   "name": "python",
   "nbconvert_exporter": "python",
   "pygments_lexer": "ipython3",
   "version": "3.8.8"
  }
 },
 "nbformat": 4,
 "nbformat_minor": 5
}
