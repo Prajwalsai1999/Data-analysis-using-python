{
 "cells": [
  {
   "cell_type": "code",
   "execution_count": 2,
   "id": "69b600d8",
   "metadata": {},
   "outputs": [
    {
     "name": "stdout",
     "output_type": "stream",
     "text": [
      "('cse', 'it', 'mech')\n",
      "(1, 23, 4, 5, 5, 6)\n",
      "('abc', 'def')\n"
     ]
    }
   ],
   "source": [
    "tup= ('cse','it','mech')\n",
    "print(tup)\n",
    "tup1=(1,23,4,5,5,6)\n",
    "print(tup1)\n",
    "tup2=\"abc\",\"def\"\n",
    "print(tup2)"
   ]
  },
  {
   "cell_type": "code",
   "execution_count": 3,
   "id": "9ff9f017",
   "metadata": {},
   "outputs": [
    {
     "name": "stdout",
     "output_type": "stream",
     "text": [
      "()\n"
     ]
    }
   ],
   "source": [
    "tup1 = ()\n",
    "print(tup1)"
   ]
  },
  {
   "cell_type": "code",
   "execution_count": 4,
   "id": "93e3075e",
   "metadata": {},
   "outputs": [
    {
     "name": "stdout",
     "output_type": "stream",
     "text": [
      "24\n"
     ]
    }
   ],
   "source": [
    "tup1 = (24)\n",
    "print(tup1)\n"
   ]
  },
  {
   "cell_type": "code",
   "execution_count": 5,
   "id": "55b894d7",
   "metadata": {},
   "outputs": [
    {
     "name": "stdout",
     "output_type": "stream",
     "text": [
      "cse\n",
      "mech\n",
      "('mech', 'ece', 'electrical')\n"
     ]
    }
   ],
   "source": [
    "tup= ('cse','it','mech','ece','electrical')\n",
    "print(tup[0])\n",
    "print(tup[2])\n",
    "print(tup[2:5])"
   ]
  },
  {
   "cell_type": "code",
   "execution_count": 6,
   "id": "71728bb3",
   "metadata": {},
   "outputs": [
    {
     "name": "stdout",
     "output_type": "stream",
     "text": [
      "('cse', 'it', 'mech', 'ece', 'electrical')\n"
     ]
    },
    {
     "ename": "NameError",
     "evalue": "name 'tup1' is not defined",
     "output_type": "error",
     "traceback": [
      "\u001b[0;31m---------------------------------------------------------------------------\u001b[0m",
      "\u001b[0;31mNameError\u001b[0m                                 Traceback (most recent call last)",
      "\u001b[0;32m<ipython-input-6-f0e3be02146e>\u001b[0m in \u001b[0;36m<module>\u001b[0;34m\u001b[0m\n\u001b[1;32m      3\u001b[0m \u001b[0;34m\u001b[0m\u001b[0m\n\u001b[1;32m      4\u001b[0m \u001b[0;32mdel\u001b[0m\u001b[0;34m(\u001b[0m\u001b[0mtup1\u001b[0m\u001b[0;34m)\u001b[0m\u001b[0;34m\u001b[0m\u001b[0;34m\u001b[0m\u001b[0m\n\u001b[0;32m----> 5\u001b[0;31m \u001b[0mprint\u001b[0m\u001b[0;34m(\u001b[0m\u001b[0mtup1\u001b[0m\u001b[0;34m)\u001b[0m\u001b[0;34m\u001b[0m\u001b[0;34m\u001b[0m\u001b[0m\n\u001b[0m",
      "\u001b[0;31mNameError\u001b[0m: name 'tup1' is not defined"
     ]
    }
   ],
   "source": [
    "tup1= ('cse','it','mech','ece','electrical')\n",
    "print(tup1)\n",
    "\n",
    "del(tup1)\n",
    "print(tup1)"
   ]
  },
  {
   "cell_type": "code",
   "execution_count": 7,
   "id": "fcd48cde",
   "metadata": {},
   "outputs": [
    {
     "name": "stdout",
     "output_type": "stream",
     "text": [
      "('cse', 'it', 'mech', 'ece', 'electrical')\n",
      "('shabnam', 'nishitha', 'roy')\n",
      "('cse', 'it', 'mech', 'ece', 'electrical', 'shabnam', 'nishitha', 'roy')\n"
     ]
    }
   ],
   "source": [
    "tup1= ('cse','it','mech','ece','electrical')\n",
    "print(tup1)\n",
    "tup2= ('shabnam','nishitha','roy')\n",
    "print(tup2)\n",
    "\n",
    "\n",
    "tup3=tup1+tup2\n",
    "print(tup3)"
   ]
  },
  {
   "cell_type": "code",
   "execution_count": 8,
   "id": "4c6f82b4",
   "metadata": {},
   "outputs": [
    {
     "name": "stdout",
     "output_type": "stream",
     "text": [
      "('cse', 'it', 'mech', 'ece', 'electrical')\n",
      "('shabnam', 'nishitha', 'roy')\n",
      "5\n",
      "3\n",
      "5\n"
     ]
    }
   ],
   "source": [
    "tup1= ('cse','it','mech','ece','electrical')\n",
    "print(tup1)\n",
    "tup2= ('shabnam','nishitha','roy')\n",
    "print(tup2)\n",
    "a=len(tup1)\n",
    "b=len(tup2)\n",
    "print(a)\n",
    "print(b)\n",
    "\n",
    "print(len(tup1))\n"
   ]
  },
  {
   "cell_type": "code",
   "execution_count": 9,
   "id": "2169a146",
   "metadata": {},
   "outputs": [
    {
     "name": "stdout",
     "output_type": "stream",
     "text": [
      "('cse', 'it', 'mech', 'ece', 'electrical')\n",
      "('shabnam', 'nishitha', 'roy')\n",
      "mech\n"
     ]
    }
   ],
   "source": [
    "tup1= ('cse','it','mech','ece','electrical')\n",
    "print(tup1)\n",
    "tup2= ('shabnam','nishitha','roy')\n",
    "print(tup2)\n",
    "\n",
    "\n",
    "print(max(tup1))"
   ]
  },
  {
   "cell_type": "code",
   "execution_count": null,
   "id": "17fc4d75",
   "metadata": {},
   "outputs": [],
   "source": []
  }
 ],
 "metadata": {
  "kernelspec": {
   "display_name": "Python 3",
   "language": "python",
   "name": "python3"
  },
  "language_info": {
   "codemirror_mode": {
    "name": "ipython",
    "version": 3
   },
   "file_extension": ".py",
   "mimetype": "text/x-python",
   "name": "python",
   "nbconvert_exporter": "python",
   "pygments_lexer": "ipython3",
   "version": "3.8.8"
  }
 },
 "nbformat": 4,
 "nbformat_minor": 5
}
